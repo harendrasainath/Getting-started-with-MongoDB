{
  "nbformat": 4,
  "nbformat_minor": 0,
  "metadata": {
    "colab": {
      "provenance": []
    },
    "kernelspec": {
      "name": "python3",
      "display_name": "Python 3"
    },
    "language_info": {
      "name": "python"
    }
  },
  "cells": [
    {
      "cell_type": "markdown",
      "source": [
        "#Installation"
      ],
      "metadata": {
        "id": "3UDreT2q_D9M"
      }
    },
    {
      "cell_type": "code",
      "execution_count": null,
      "metadata": {
        "id": "RoyAfN7_--Ol"
      },
      "outputs": [],
      "source": [
        "from pymongo import MongoClient\n",
        "import pandas as pd\n",
        "import dateutil"
      ]
    },
    {
      "cell_type": "code",
      "source": [
        "!apt install mongodb > /dev/null\n",
        "!service mongodb start"
      ],
      "metadata": {
        "colab": {
          "base_uri": "https://localhost:8080/"
        },
        "id": "5ZAO6tzG_PLU",
        "outputId": "9411e2cc-01f4-4cb8-f919-06ec7048fe84"
      },
      "execution_count": null,
      "outputs": [
        {
          "output_type": "stream",
          "name": "stdout",
          "text": [
            "\n",
            "WARNING: apt does not have a stable CLI interface. Use with caution in scripts.\n",
            "\n",
            " * Starting database mongodb\n",
            "   ...done.\n"
          ]
        }
      ]
    },
    {
      "cell_type": "markdown",
      "source": [
        "# Create Database objects"
      ],
      "metadata": {
        "id": "jzSXavSq_onE"
      }
    },
    {
      "cell_type": "code",
      "source": [
        "mongoURI = \"mongodb://localhost:27017/\"\n",
        "client = MongoClient(mongoURI)\n",
        "client.list_database_names() # ['admin', 'local']"
      ],
      "metadata": {
        "colab": {
          "base_uri": "https://localhost:8080/"
        },
        "id": "4UjdBeeN_PT-",
        "outputId": "0c821e5a-1958-4def-b192-206122631f03"
      },
      "execution_count": null,
      "outputs": [
        {
          "output_type": "execute_result",
          "data": {
            "text/plain": [
              "['admin', 'local']"
            ]
          },
          "metadata": {},
          "execution_count": 6
        }
      ]
    },
    {
      "cell_type": "code",
      "source": [
        "# Delete a database\n",
        "client.drop_database('PraxisDB')"
      ],
      "metadata": {
        "id": "NHK30CVP_wg9"
      },
      "execution_count": null,
      "outputs": []
    },
    {
      "cell_type": "code",
      "source": [
        "# Creating a new database and a collection.\n",
        "db = client.mgdbDB\n",
        "db.create_collection('name_add')      "
      ],
      "metadata": {
        "colab": {
          "base_uri": "https://localhost:8080/"
        },
        "id": "sI_r8bcbASes",
        "outputId": "fc01113f-1611-4a16-9047-18cf597ad1ea"
      },
      "execution_count": null,
      "outputs": [
        {
          "output_type": "execute_result",
          "data": {
            "text/plain": [
              "Collection(Database(MongoClient(host=['localhost:27017'], document_class=dict, tz_aware=False, connect=True), 'mgdbDB'), 'name_add')"
            ]
          },
          "metadata": {},
          "execution_count": 18
        }
      ]
    },
    {
      "cell_type": "code",
      "source": [
        "list (db.list_collections())\n"
      ],
      "metadata": {
        "colab": {
          "base_uri": "https://localhost:8080/"
        },
        "id": "tAgre_J-ASlm",
        "outputId": "6b5ea5db-edf2-4282-c6e2-5dbb72677e81"
      },
      "execution_count": null,
      "outputs": [
        {
          "output_type": "execute_result",
          "data": {
            "text/plain": [
              "[{'idIndex': {'key': {'_id': 1},\n",
              "   'name': '_id_',\n",
              "   'ns': 'mgdbDB.name_address',\n",
              "   'v': 2},\n",
              "  'info': {'readOnly': False,\n",
              "   'uuid': Binary(b'/\\xc3^I\\xa8wF\\x08\\xad{\\xc6 \\x8b\\x9d\\xa6d', 4)},\n",
              "  'name': 'name_address',\n",
              "  'options': {},\n",
              "  'type': 'collection'},\n",
              " {'idIndex': {'key': {'_id': 1},\n",
              "   'name': '_id_',\n",
              "   'ns': 'mgdbDB.name_add',\n",
              "   'v': 2},\n",
              "  'info': {'readOnly': False,\n",
              "   'uuid': Binary(b'\\x0cP\\xa6\\x15f\\x17H\\xda\\xa8\\x98\\x90\\xd1\\x0f\\xf6y\\xc6', 4)},\n",
              "  'name': 'name_add',\n",
              "  'options': {},\n",
              "  'type': 'collection'}]"
            ]
          },
          "metadata": {},
          "execution_count": 19
        }
      ]
    },
    {
      "cell_type": "code",
      "source": [
        "coll = db.name_add\n",
        "coll.insert_one({'name' : 'Harendra'})     # Insert one item to create the collection\n",
        "list (coll.find())                  # Show the existing collections"
      ],
      "metadata": {
        "id": "-Oftigc1ASoD",
        "colab": {
          "base_uri": "https://localhost:8080/"
        },
        "outputId": "1f134008-f4e6-4f7a-de21-693ab462003d"
      },
      "execution_count": null,
      "outputs": [
        {
          "output_type": "execute_result",
          "data": {
            "text/plain": [
              "[{'_id': ObjectId('629f3cba5a45bbeba5dd7ad9'), 'name': 'Harendra'}]"
            ]
          },
          "metadata": {},
          "execution_count": 20
        }
      ]
    },
    {
      "cell_type": "code",
      "source": [
        "# Rename a collections\n",
        "db.name_add.rename('name_addr_book')\n",
        "coll2 = db.name_addr_book                   # Set the collection to work with\n",
        "list (db.list_collections())                  # Show the existing collections"
      ],
      "metadata": {
        "id": "FLYj_qlQASsq",
        "colab": {
          "base_uri": "https://localhost:8080/"
        },
        "outputId": "cfefd8bb-db99-468c-c486-bcd8a0b8c682"
      },
      "execution_count": null,
      "outputs": [
        {
          "output_type": "execute_result",
          "data": {
            "text/plain": [
              "[{'idIndex': {'key': {'_id': 1},\n",
              "   'name': '_id_',\n",
              "   'ns': 'mgdbDB.name_address',\n",
              "   'v': 2},\n",
              "  'info': {'readOnly': False,\n",
              "   'uuid': Binary(b'/\\xc3^I\\xa8wF\\x08\\xad{\\xc6 \\x8b\\x9d\\xa6d', 4)},\n",
              "  'name': 'name_address',\n",
              "  'options': {},\n",
              "  'type': 'collection'},\n",
              " {'idIndex': {'key': {'_id': 1},\n",
              "   'name': '_id_',\n",
              "   'ns': 'mgdbDB.name_addr_book',\n",
              "   'v': 2},\n",
              "  'info': {'readOnly': False,\n",
              "   'uuid': Binary(b'\\x0cP\\xa6\\x15f\\x17H\\xda\\xa8\\x98\\x90\\xd1\\x0f\\xf6y\\xc6', 4)},\n",
              "  'name': 'name_addr_book',\n",
              "  'options': {},\n",
              "  'type': 'collection'}]"
            ]
          },
          "metadata": {},
          "execution_count": 22
        }
      ]
    },
    {
      "cell_type": "code",
      "source": [
        "# Delete collection\n",
        "db.drop_collection('name_address')"
      ],
      "metadata": {
        "colab": {
          "base_uri": "https://localhost:8080/"
        },
        "id": "Ppvx_s-SCRLL",
        "outputId": "9deab205-3881-48f2-877e-d903a021979d"
      },
      "execution_count": null,
      "outputs": [
        {
          "output_type": "execute_result",
          "data": {
            "text/plain": [
              "{'nIndexesWas': 1, 'ns': 'mgdbDB.name_address', 'ok': 1.0}"
            ]
          },
          "metadata": {},
          "execution_count": 26
        }
      ]
    },
    {
      "cell_type": "code",
      "source": [
        "db.drop_collection('name_addr_book')"
      ],
      "metadata": {
        "colab": {
          "base_uri": "https://localhost:8080/"
        },
        "id": "ehzRvaikDHVL",
        "outputId": "2ceac255-0c1d-4481-f636-ee273b83005a"
      },
      "execution_count": null,
      "outputs": [
        {
          "output_type": "execute_result",
          "data": {
            "text/plain": [
              "{'nIndexesWas': 1, 'ns': 'mgdbDB.name_addr_book', 'ok': 1.0}"
            ]
          },
          "metadata": {},
          "execution_count": 29
        }
      ]
    },
    {
      "cell_type": "code",
      "source": [
        "client.list_database_names() "
      ],
      "metadata": {
        "id": "JZlA5JAVASvs",
        "colab": {
          "base_uri": "https://localhost:8080/"
        },
        "outputId": "15e4d1fc-97c5-4100-8e81-54989a65efc3"
      },
      "execution_count": null,
      "outputs": [
        {
          "output_type": "execute_result",
          "data": {
            "text/plain": [
              "['admin', 'config', 'local']"
            ]
          },
          "metadata": {},
          "execution_count": 30
        }
      ]
    },
    {
      "cell_type": "markdown",
      "source": [
        "# Operations"
      ],
      "metadata": {
        "id": "O8-ox4CDCqIb"
      }
    },
    {
      "cell_type": "markdown",
      "source": [
        "## Single Row Insert"
      ],
      "metadata": {
        "id": "DwkgpmQ2CqOK"
      }
    },
    {
      "cell_type": "code",
      "source": [
        "cDoc1 = {  'name' : 'Harendra' ,                                     # String \n",
        "          'age' : '26',                                             # Integer\n",
        "          'gender' : 'Male',                                        # String \n",
        "          'likes_code' : True,                                      # Boolean\n",
        "          'address': {\n",
        "              'street' : 'SNP Agraharam',                          # String ( special character with escape \\ )\n",
        "              'number' : 210,                                        # Integer\n",
        "              'city' : 'Bapatla',                                   # String \n",
        "              'floor' : None,                                       # Null \n",
        "              'postalcode' : '522101',                              # String containing a number\n",
        "              },\n",
        "          'favouritefruits': ['apple','mango','orange']         # Array        \n",
        "       }"
      ],
      "metadata": {
        "id": "9xeCkP4lC1sr"
      },
      "execution_count": null,
      "outputs": []
    },
    {
      "cell_type": "code",
      "source": [
        "# Define database, collection etc\n",
        "db = client.mgdbDB\n",
        "# Delete collection\n",
        "db.drop_collection('name_addr_book')\n",
        "db.create_collection('name_addr_book')       # Optional collection creation \n",
        "coll3 = db.name_addr_book                   # Set the collection to work with\n",
        "insert_result = coll3.insert_one( cDoc1)\n",
        "insert_result.acknowledged    # Confirms that insert is successful"
      ],
      "metadata": {
        "colab": {
          "base_uri": "https://localhost:8080/"
        },
        "id": "GB46-_sODCnf",
        "outputId": "f479fe42-43e1-4637-eec8-2220f73d2376"
      },
      "execution_count": null,
      "outputs": [
        {
          "output_type": "execute_result",
          "data": {
            "text/plain": [
              "True"
            ]
          },
          "metadata": {},
          "execution_count": 32
        }
      ]
    },
    {
      "cell_type": "code",
      "source": [
        "insert_result.inserted_id     # Shows the document ID "
      ],
      "metadata": {
        "colab": {
          "base_uri": "https://localhost:8080/"
        },
        "id": "5khhr1lbDCrx",
        "outputId": "a072319d-58a3-4792-a3e1-24e16a21f156"
      },
      "execution_count": null,
      "outputs": [
        {
          "output_type": "execute_result",
          "data": {
            "text/plain": [
              "ObjectId('629f3eec5a45bbeba5dd7ada')"
            ]
          },
          "metadata": {},
          "execution_count": 33
        }
      ]
    },
    {
      "cell_type": "code",
      "source": [
        "db.AddressBook.find()  # returns a cursor"
      ],
      "metadata": {
        "colab": {
          "base_uri": "https://localhost:8080/"
        },
        "id": "XZOhL3dXDiDL",
        "outputId": "467157f3-2641-4e9d-e091-bf745872e979"
      },
      "execution_count": null,
      "outputs": [
        {
          "output_type": "execute_result",
          "data": {
            "text/plain": [
              "<pymongo.cursor.Cursor at 0x7fc17f1a1050>"
            ]
          },
          "metadata": {},
          "execution_count": 34
        }
      ]
    },
    {
      "cell_type": "code",
      "source": [
        "c = coll3.find()\n",
        "for crnt in c:\n",
        "    print(crnt)"
      ],
      "metadata": {
        "colab": {
          "base_uri": "https://localhost:8080/"
        },
        "id": "SG_bTWoVDnrc",
        "outputId": "f99e4f6f-add1-480a-c030-b7bf6fa9bf98"
      },
      "execution_count": null,
      "outputs": [
        {
          "output_type": "stream",
          "name": "stdout",
          "text": [
            "{'_id': ObjectId('629f3eec5a45bbeba5dd7ada'), 'name': 'Harendra', 'age': '26', 'gender': 'Male', 'likes_code': True, 'address': {'street': 'SNP Agraharam', 'number': 210, 'city': 'Bapatla', 'floor': None, 'postalcode': '522101'}, 'favouritefruits': ['apple', 'mango', 'orange']}\n"
          ]
        }
      ]
    },
    {
      "cell_type": "code",
      "source": [
        "cDoc2 = {  'name' : 'Jaswanth' ,                                     # String \n",
        "          'age' : '24',                                             # Integer\n",
        "          'gender' : 'Male',                                        # String \n",
        "          'likes_code' : False,                                      # Boolean\n",
        "          'address': {\n",
        "              'street' : None,                          # String ( special character with escape \\ )\n",
        "              'number' : None,                                        # Integer\n",
        "              'city' : 'Adelaide',                                   # String \n",
        "              'floor' : None,                                       # Null \n",
        "              'postalcode' : None,                              # String containing a number\n",
        "              },\n",
        "          'favouritefruits': ['apple','guava','mango']         # Array        \n",
        "       }"
      ],
      "metadata": {
        "id": "R8tURj80Dn0q"
      },
      "execution_count": null,
      "outputs": []
    },
    {
      "cell_type": "code",
      "source": [
        "insert_result = coll3.insert_one( cDoc2)\n",
        "insert_result.acknowledged    # Confirms that insert is successful"
      ],
      "metadata": {
        "colab": {
          "base_uri": "https://localhost:8080/"
        },
        "id": "nwGK-Hz2D3cj",
        "outputId": "95e5c708-9c06-46b7-95d4-faa5eff2be47"
      },
      "execution_count": null,
      "outputs": [
        {
          "output_type": "execute_result",
          "data": {
            "text/plain": [
              "True"
            ]
          },
          "metadata": {},
          "execution_count": 37
        }
      ]
    },
    {
      "cell_type": "code",
      "source": [
        "c = coll3.find()\n",
        "for crnt in c:\n",
        "    print(crnt)"
      ],
      "metadata": {
        "colab": {
          "base_uri": "https://localhost:8080/"
        },
        "id": "gm30MMQGD3nj",
        "outputId": "77e1ec2d-2bc4-4435-9c57-6ef506b39499"
      },
      "execution_count": null,
      "outputs": [
        {
          "output_type": "stream",
          "name": "stdout",
          "text": [
            "{'_id': ObjectId('629f3eec5a45bbeba5dd7ada'), 'name': 'Harendra', 'age': '26', 'gender': 'Male', 'likes_code': True, 'address': {'street': 'SNP Agraharam', 'number': 210, 'city': 'Bapatla', 'floor': None, 'postalcode': '522101'}, 'favouritefruits': ['apple', 'mango', 'orange']}\n",
            "{'_id': ObjectId('629f3f6f5a45bbeba5dd7adb'), 'name': 'Jaswanth', 'age': '24', 'gender': 'Male', 'likes_code': False, 'address': {'street': None, 'number': None, 'city': 'Adelaide', 'floor': None, 'postalcode': None}, 'favouritefruits': ['apple', 'guava', 'mango']}\n"
          ]
        }
      ]
    },
    {
      "cell_type": "code",
      "source": [
        "cDoc3 = {  'name' : 'Narendra' ,                                     # String \n",
        "          'age' : '55',                                             # Integer\n",
        "          'gender' : 'Male',                                        # String \n",
        "          'likes_code' : False,                                      # Boolean\n",
        "          'address': {\n",
        "              'street' : None,                          # String ( special character with escape \\ )\n",
        "              'number' : None,                                        # Integer\n",
        "              'city' : 'Bapatla',                                   # String \n",
        "              'floor' : None,                                       # Null \n",
        "              'postalcode' : '522101',                              # String containing a number\n",
        "              },\n",
        "          'favouritefruits': ['muskmelon','guava','mango']         # Array        \n",
        "       }\n"
      ],
      "metadata": {
        "id": "323qi92YD3u0"
      },
      "execution_count": null,
      "outputs": []
    },
    {
      "cell_type": "code",
      "source": [
        "insert_result = coll3.insert_one( cDoc3)\n",
        "insert_result.acknowledged    # Confirms that insert is successful"
      ],
      "metadata": {
        "colab": {
          "base_uri": "https://localhost:8080/"
        },
        "id": "-e4WLzt-D30C",
        "outputId": "ba55b8e5-a142-4ce1-aeec-67b6b2f2b7a9"
      },
      "execution_count": null,
      "outputs": [
        {
          "output_type": "execute_result",
          "data": {
            "text/plain": [
              "True"
            ]
          },
          "metadata": {},
          "execution_count": 40
        }
      ]
    },
    {
      "cell_type": "code",
      "source": [
        "c = coll3.find()\n",
        "for crnt in c:\n",
        "    print(crnt)"
      ],
      "metadata": {
        "colab": {
          "base_uri": "https://localhost:8080/"
        },
        "id": "HRfb8nZeEd0N",
        "outputId": "45fdad99-c5bd-441c-a675-46f5bb78df66"
      },
      "execution_count": null,
      "outputs": [
        {
          "output_type": "stream",
          "name": "stdout",
          "text": [
            "{'_id': ObjectId('629f3eec5a45bbeba5dd7ada'), 'name': 'Harendra', 'age': '26', 'gender': 'Male', 'likes_code': True, 'address': {'street': 'SNP Agraharam', 'number': 210, 'city': 'Bapatla', 'floor': None, 'postalcode': '522101'}, 'favouritefruits': ['apple', 'mango', 'orange']}\n",
            "{'_id': ObjectId('629f3f6f5a45bbeba5dd7adb'), 'name': 'Jaswanth', 'age': '24', 'gender': 'Male', 'likes_code': False, 'address': {'street': None, 'number': None, 'city': 'Adelaide', 'floor': None, 'postalcode': None}, 'favouritefruits': ['apple', 'guava', 'mango']}\n",
            "{'_id': ObjectId('629f3ff15a45bbeba5dd7adc'), 'name': 'Narendra', 'age': '55', 'gender': 'Male', 'likes_code': False, 'address': {'street': None, 'number': None, 'city': 'Bapatla', 'floor': None, 'postalcode': '522101'}, 'favouritefruits': ['muskmelon', 'guava', 'mango']}\n"
          ]
        }
      ]
    },
    {
      "cell_type": "code",
      "source": [
        "cDoc4 = {  'name' : 'Padmavathi' ,                                     # String \n",
        "          'age' : '54',                                             # Integer\n",
        "          'gender' : 'Female',                                        # String \n",
        "          'likes_code' : False,                                      # Boolean\n",
        "          'address': {\n",
        "              'street' : None,                          # String ( special character with escape \\ )\n",
        "              'number' : None,                                        # Integer\n",
        "              'city' : 'Bapatla',                                   # String \n",
        "              'floor' : None,                                       # Null \n",
        "              'postalcode' : '522101',                              # String containing a number\n",
        "              },\n",
        "          'favouritefruits': ['apple','guava','mango']         # Array        \n",
        "       }"
      ],
      "metadata": {
        "id": "y6lGfG04EfYk"
      },
      "execution_count": null,
      "outputs": []
    },
    {
      "cell_type": "code",
      "source": [
        "insert_result = coll3.insert_one( cDoc4)\n",
        "insert_result.acknowledged    # Confirms that insert is successful"
      ],
      "metadata": {
        "colab": {
          "base_uri": "https://localhost:8080/"
        },
        "id": "0dIc45fBEffz",
        "outputId": "3e25945a-66cc-4f7b-ad10-6033691ea66f"
      },
      "execution_count": null,
      "outputs": [
        {
          "output_type": "execute_result",
          "data": {
            "text/plain": [
              "True"
            ]
          },
          "metadata": {},
          "execution_count": 44
        }
      ]
    },
    {
      "cell_type": "code",
      "source": [
        "c = coll3.find()\n",
        "for crnt in c:\n",
        "    print(crnt)"
      ],
      "metadata": {
        "colab": {
          "base_uri": "https://localhost:8080/"
        },
        "id": "loN35pwKEfkv",
        "outputId": "d275a942-fe64-4d6d-c614-70a0831e793a"
      },
      "execution_count": null,
      "outputs": [
        {
          "output_type": "stream",
          "name": "stdout",
          "text": [
            "{'_id': ObjectId('629f3eec5a45bbeba5dd7ada'), 'name': 'Harendra', 'age': '26', 'gender': 'Male', 'likes_code': True, 'address': {'street': 'SNP Agraharam', 'number': 210, 'city': 'Bapatla', 'floor': None, 'postalcode': '522101'}, 'favouritefruits': ['apple', 'mango', 'orange']}\n",
            "{'_id': ObjectId('629f3f6f5a45bbeba5dd7adb'), 'name': 'Jaswanth', 'age': '24', 'gender': 'Male', 'likes_code': False, 'address': {'street': None, 'number': None, 'city': 'Adelaide', 'floor': None, 'postalcode': None}, 'favouritefruits': ['apple', 'guava', 'mango']}\n",
            "{'_id': ObjectId('629f3ff15a45bbeba5dd7adc'), 'name': 'Narendra', 'age': '55', 'gender': 'Male', 'likes_code': False, 'address': {'street': None, 'number': None, 'city': 'Bapatla', 'floor': None, 'postalcode': '522101'}, 'favouritefruits': ['muskmelon', 'guava', 'mango']}\n",
            "{'_id': ObjectId('629f402b5a45bbeba5dd7add'), 'name': 'Padmavathi', 'age': '54', 'gender': 'Female', 'likes_code': False, 'address': {'street': None, 'number': None, 'city': 'Bapatla', 'floor': None, 'postalcode': '522101'}, 'favouritefruits': ['apple', 'guava', 'mango']}\n"
          ]
        }
      ]
    },
    {
      "cell_type": "markdown",
      "source": [
        "##Read"
      ],
      "metadata": {
        "id": "DQCCKOFcEum0"
      }
    },
    {
      "cell_type": "code",
      "source": [
        "list(coll3.find())"
      ],
      "metadata": {
        "colab": {
          "base_uri": "https://localhost:8080/"
        },
        "id": "MbptiGwdEwJD",
        "outputId": "2f3508b3-aabb-4de0-aacc-5ee43df70c5e"
      },
      "execution_count": null,
      "outputs": [
        {
          "output_type": "execute_result",
          "data": {
            "text/plain": [
              "[{'_id': ObjectId('629f3eec5a45bbeba5dd7ada'),\n",
              "  'address': {'city': 'Bapatla',\n",
              "   'floor': None,\n",
              "   'number': 210,\n",
              "   'postalcode': '522101',\n",
              "   'street': 'SNP Agraharam'},\n",
              "  'age': '26',\n",
              "  'favouritefruits': ['apple', 'mango', 'orange'],\n",
              "  'gender': 'Male',\n",
              "  'likes_code': True,\n",
              "  'name': 'Harendra'},\n",
              " {'_id': ObjectId('629f3f6f5a45bbeba5dd7adb'),\n",
              "  'address': {'city': 'Adelaide',\n",
              "   'floor': None,\n",
              "   'number': None,\n",
              "   'postalcode': None,\n",
              "   'street': None},\n",
              "  'age': '24',\n",
              "  'favouritefruits': ['apple', 'guava', 'mango'],\n",
              "  'gender': 'Male',\n",
              "  'likes_code': False,\n",
              "  'name': 'Jaswanth'},\n",
              " {'_id': ObjectId('629f3ff15a45bbeba5dd7adc'),\n",
              "  'address': {'city': 'Bapatla',\n",
              "   'floor': None,\n",
              "   'number': None,\n",
              "   'postalcode': '522101',\n",
              "   'street': None},\n",
              "  'age': '55',\n",
              "  'favouritefruits': ['muskmelon', 'guava', 'mango'],\n",
              "  'gender': 'Male',\n",
              "  'likes_code': False,\n",
              "  'name': 'Narendra'},\n",
              " {'_id': ObjectId('629f402b5a45bbeba5dd7add'),\n",
              "  'address': {'city': 'Bapatla',\n",
              "   'floor': None,\n",
              "   'number': None,\n",
              "   'postalcode': '522101',\n",
              "   'street': None},\n",
              "  'age': '54',\n",
              "  'favouritefruits': ['apple', 'guava', 'mango'],\n",
              "  'gender': 'Female',\n",
              "  'likes_code': False,\n",
              "  'name': 'Padmavathi'}]"
            ]
          },
          "metadata": {},
          "execution_count": 46
        }
      ]
    },
    {
      "cell_type": "code",
      "source": [
        "list ( coll3.find( {'name' : 'Harendra' } ))   "
      ],
      "metadata": {
        "colab": {
          "base_uri": "https://localhost:8080/"
        },
        "id": "PXnpcFTDE1X7",
        "outputId": "c8d96305-8e03-4d04-f6e4-1b11572d29b1"
      },
      "execution_count": null,
      "outputs": [
        {
          "output_type": "execute_result",
          "data": {
            "text/plain": [
              "[{'_id': ObjectId('629f3eec5a45bbeba5dd7ada'),\n",
              "  'address': {'city': 'Bapatla',\n",
              "   'floor': None,\n",
              "   'number': 210,\n",
              "   'postalcode': '522101',\n",
              "   'street': 'SNP Agraharam'},\n",
              "  'age': '26',\n",
              "  'favouritefruits': ['apple', 'mango', 'orange'],\n",
              "  'gender': 'Male',\n",
              "  'likes_code': True,\n",
              "  'name': 'Harendra'}]"
            ]
          },
          "metadata": {},
          "execution_count": 47
        }
      ]
    },
    {
      "cell_type": "code",
      "source": [
        "list ( coll3.find( {'address.postalcode' : '522101' } ))             # find, can use one key or more "
      ],
      "metadata": {
        "colab": {
          "base_uri": "https://localhost:8080/"
        },
        "id": "Og5JSsc3E6Y7",
        "outputId": "222c1546-fc38-4d0f-9de0-2a0aaba5833e"
      },
      "execution_count": null,
      "outputs": [
        {
          "output_type": "execute_result",
          "data": {
            "text/plain": [
              "[{'_id': ObjectId('629f3eec5a45bbeba5dd7ada'),\n",
              "  'address': {'city': 'Bapatla',\n",
              "   'floor': None,\n",
              "   'number': 210,\n",
              "   'postalcode': '522101',\n",
              "   'street': 'SNP Agraharam'},\n",
              "  'age': '26',\n",
              "  'favouritefruits': ['apple', 'mango', 'orange'],\n",
              "  'gender': 'Male',\n",
              "  'likes_code': True,\n",
              "  'name': 'Harendra'},\n",
              " {'_id': ObjectId('629f3ff15a45bbeba5dd7adc'),\n",
              "  'address': {'city': 'Bapatla',\n",
              "   'floor': None,\n",
              "   'number': None,\n",
              "   'postalcode': '522101',\n",
              "   'street': None},\n",
              "  'age': '55',\n",
              "  'favouritefruits': ['muskmelon', 'guava', 'mango'],\n",
              "  'gender': 'Male',\n",
              "  'likes_code': False,\n",
              "  'name': 'Narendra'},\n",
              " {'_id': ObjectId('629f402b5a45bbeba5dd7add'),\n",
              "  'address': {'city': 'Bapatla',\n",
              "   'floor': None,\n",
              "   'number': None,\n",
              "   'postalcode': '522101',\n",
              "   'street': None},\n",
              "  'age': '54',\n",
              "  'favouritefruits': ['apple', 'guava', 'mango'],\n",
              "  'gender': 'Female',\n",
              "  'likes_code': False,\n",
              "  'name': 'Padmavathi'}]"
            ]
          },
          "metadata": {},
          "execution_count": 48
        }
      ]
    },
    {
      "cell_type": "code",
      "source": [
        "list ( coll3.find( {'address.postalcode' : '522101' } ))             # find, can use one key or more "
      ],
      "metadata": {
        "colab": {
          "base_uri": "https://localhost:8080/"
        },
        "id": "3DVyIQWpE9uU",
        "outputId": "fabf601a-d4b9-4dc8-dbb9-b75f1ee8dd01"
      },
      "execution_count": null,
      "outputs": [
        {
          "output_type": "execute_result",
          "data": {
            "text/plain": [
              "[{'_id': ObjectId('629f3eec5a45bbeba5dd7ada'),\n",
              "  'address': {'city': 'Bapatla',\n",
              "   'floor': None,\n",
              "   'number': 210,\n",
              "   'postalcode': '522101',\n",
              "   'street': 'SNP Agraharam'},\n",
              "  'age': '26',\n",
              "  'favouritefruits': ['apple', 'mango', 'orange'],\n",
              "  'gender': 'Male',\n",
              "  'likes_code': True,\n",
              "  'name': 'Harendra'},\n",
              " {'_id': ObjectId('629f3ff15a45bbeba5dd7adc'),\n",
              "  'address': {'city': 'Bapatla',\n",
              "   'floor': None,\n",
              "   'number': None,\n",
              "   'postalcode': '522101',\n",
              "   'street': None},\n",
              "  'age': '55',\n",
              "  'favouritefruits': ['muskmelon', 'guava', 'mango'],\n",
              "  'gender': 'Male',\n",
              "  'likes_code': False,\n",
              "  'name': 'Narendra'},\n",
              " {'_id': ObjectId('629f402b5a45bbeba5dd7add'),\n",
              "  'address': {'city': 'Bapatla',\n",
              "   'floor': None,\n",
              "   'number': None,\n",
              "   'postalcode': '522101',\n",
              "   'street': None},\n",
              "  'age': '54',\n",
              "  'favouritefruits': ['apple', 'guava', 'mango'],\n",
              "  'gender': 'Female',\n",
              "  'likes_code': False,\n",
              "  'name': 'Padmavathi'}]"
            ]
          },
          "metadata": {},
          "execution_count": 50
        }
      ]
    },
    {
      "cell_type": "markdown",
      "source": [
        "##Update"
      ],
      "metadata": {
        "id": "tEFh-QKYFKhE"
      }
    },
    {
      "cell_type": "code",
      "source": [
        "## Update an existing document\n",
        "update_result = coll3.update_one( \n",
        "    {'name' : 'Harendra'}, \n",
        "    {'$set' : { 'age' : 27 }} ) \n",
        "\n",
        "list (coll3.find( {'name' : 'Harendra' } ))"
      ],
      "metadata": {
        "colab": {
          "base_uri": "https://localhost:8080/"
        },
        "id": "aAcyKZ6kFI-2",
        "outputId": "87b27b3e-0d69-4f22-dae9-8a1d46c34fcd"
      },
      "execution_count": null,
      "outputs": [
        {
          "output_type": "execute_result",
          "data": {
            "text/plain": [
              "[{'_id': ObjectId('629f3eec5a45bbeba5dd7ada'),\n",
              "  'address': {'city': 'Bapatla',\n",
              "   'floor': None,\n",
              "   'number': 210,\n",
              "   'postalcode': '522101',\n",
              "   'street': 'SNP Agraharam'},\n",
              "  'age': 27,\n",
              "  'favouritefruits': ['apple', 'mango', 'orange'],\n",
              "  'gender': 'Male',\n",
              "  'likes_code': True,\n",
              "  'name': 'Harendra'}]"
            ]
          },
          "metadata": {},
          "execution_count": 51
        }
      ]
    },
    {
      "cell_type": "code",
      "source": [
        "## Update an existing document\n",
        "update_result = coll3.update_one( \n",
        "    {'name' : 'Harendra'}, \n",
        "    {'$set' : { 'name' : 'Harendra Sai Nath' }} ) \n",
        "\n",
        "list (coll3.find( {'name' : 'Harendra Sai Nath' } ))"
      ],
      "metadata": {
        "colab": {
          "base_uri": "https://localhost:8080/"
        },
        "id": "-ldn640mFYeT",
        "outputId": "84d10509-7247-4b99-f59d-88cb812b9506"
      },
      "execution_count": null,
      "outputs": [
        {
          "output_type": "execute_result",
          "data": {
            "text/plain": [
              "[{'_id': ObjectId('629f3eec5a45bbeba5dd7ada'),\n",
              "  'address': {'city': 'Bapatla',\n",
              "   'floor': None,\n",
              "   'number': 210,\n",
              "   'postalcode': '522101',\n",
              "   'street': 'SNP Agraharam'},\n",
              "  'age': 27,\n",
              "  'favouritefruits': ['apple', 'mango', 'orange'],\n",
              "  'gender': 'Male',\n",
              "  'likes_code': True,\n",
              "  'name': 'Harendra Sai Nath'}]"
            ]
          },
          "metadata": {},
          "execution_count": 52
        }
      ]
    }
  ]
}